{
  "metadata": {
    "kernelspec": {
      "name": "python",
      "display_name": "Python (Pyodide)",
      "language": "python"
    },
    "language_info": {
      "codemirror_mode": {
        "name": "python",
        "version": 3
      },
      "file_extension": ".py",
      "mimetype": "text/x-python",
      "name": "python",
      "nbconvert_exporter": "python",
      "pygments_lexer": "ipython3",
      "version": "3.8"
    }
  },
  "nbformat_minor": 4,
  "nbformat": 4,
  "cells": [
    {
      "cell_type": "code",
      "source": "print('Welcome to the 7 Nations of Teyvat Quiz')",
      "metadata": {
        "trusted": true
      },
      "outputs": [
        {
          "name": "stdout",
          "text": "Welcome to the 7 Nations of Teyvat Quiz\n",
          "output_type": "stream"
        }
      ],
      "execution_count": 3
    },
    {
      "cell_type": "code",
      "source": "score = 0\nscore = int(score)",
      "metadata": {
        "trusted": true
      },
      "outputs": [],
      "execution_count": 4
    },
    {
      "cell_type": "code",
      "source": "answer1 = await input('Which nation is famous with poetry?')",
      "metadata": {
        "trusted": true
      },
      "outputs": [
        {
          "output_type": "stream",
          "name": "stdin",
          "text": "Which nation is famous with poetry? mondstadt\n"
        }
      ],
      "execution_count": 8
    },
    {
      "cell_type": "code",
      "source": "if answer1 == 'mondstadt' :\n    print('Correct!!')\n    score = score + 1\nelse:\n    print('sorry, wrong asnwer')\nprint(\"your current score is: \" + str(score)) ",
      "metadata": {
        "trusted": true
      },
      "outputs": [
        {
          "name": "stdout",
          "text": "Correct!!\nyour current score is: 1\n",
          "output_type": "stream"
        }
      ],
      "execution_count": 9
    },
    {
      "cell_type": "code",
      "source": "answer2 = await input('Where can sakure blooms be found?')",
      "metadata": {
        "trusted": true
      },
      "outputs": [
        {
          "output_type": "stream",
          "name": "stdin",
          "text": "Where can sakure blooms be found? inazuma\n"
        }
      ],
      "execution_count": 7
    },
    {
      "cell_type": "code",
      "source": "if answer2 == 'inazuma' :\n    print('correct!!')\n    score = score + 1\nelse:\n    print('sorry, wrong answer')\nprint(\"your current score is: \" + str(score))",
      "metadata": {
        "trusted": true
      },
      "outputs": [
        {
          "name": "stdout",
          "text": "correct!!\nyour current score is: 1\n",
          "output_type": "stream"
        }
      ],
      "execution_count": 8
    },
    {
      "cell_type": "code",
      "source": "answer3 = await input('Which nation had \"yakshas\" to protect their region?')\n",
      "metadata": {
        "trusted": true
      },
      "outputs": [
        {
          "output_type": "stream",
          "name": "stdin",
          "text": "Which nation had \"yakshas\" to protect their region? liyue\n"
        }
      ],
      "execution_count": 9
    },
    {
      "cell_type": "code",
      "source": "if answer3 == 'liyue' :\n    print('correct!!')\n    score = score + 1\nelse:\n    print('sorry, wrong answer')\nprint(\"your current score is: \" + str(score))  ",
      "metadata": {
        "trusted": true
      },
      "outputs": [
        {
          "name": "stdout",
          "text": "correct!!\nyour current score is: 2\n",
          "output_type": "stream"
        }
      ],
      "execution_count": 10
    },
    {
      "cell_type": "code",
      "source": "answer4 = await input('Which nation knows by \"wisdom\"?')\n",
      "metadata": {
        "trusted": true
      },
      "outputs": [
        {
          "output_type": "stream",
          "name": "stdin",
          "text": "Which nation knows by \"wisdom\"? sumeru\n"
        }
      ],
      "execution_count": 2
    },
    {
      "cell_type": "code",
      "source": "if answer4 == 'sumeru' :\n    print('correct!!')\n    score = score + 1\nelse:\n    print('sorry, wrong answer')\nprint(\"your current score is: \" + str(score))",
      "metadata": {
        "trusted": true
      },
      "outputs": [
        {
          "name": "stdout",
          "text": "correct!!\n",
          "output_type": "stream"
        },
        {
          "ename": "<class 'NameError'>",
          "evalue": "name 'score' is not defined",
          "traceback": [
            "\u001b[0;31m---------------------------------------------------------------------------\u001b[0m",
            "\u001b[0;31mNameError\u001b[0m                                 Traceback (most recent call last)",
            "Cell \u001b[0;32mIn[3], line 3\u001b[0m\n\u001b[1;32m      1\u001b[0m \u001b[38;5;28;01mif\u001b[39;00m answer4 \u001b[38;5;241m==\u001b[39m \u001b[38;5;124m'\u001b[39m\u001b[38;5;124msumeru\u001b[39m\u001b[38;5;124m'\u001b[39m :\n\u001b[1;32m      2\u001b[0m     \u001b[38;5;28mprint\u001b[39m(\u001b[38;5;124m'\u001b[39m\u001b[38;5;124mcorrect!!\u001b[39m\u001b[38;5;124m'\u001b[39m)\n\u001b[0;32m----> 3\u001b[0m     score \u001b[38;5;241m=\u001b[39m \u001b[43mscore\u001b[49m \u001b[38;5;241m+\u001b[39m \u001b[38;5;241m1\u001b[39m\n\u001b[1;32m      4\u001b[0m \u001b[38;5;28;01melse\u001b[39;00m:\n\u001b[1;32m      5\u001b[0m     \u001b[38;5;28mprint\u001b[39m(\u001b[38;5;124m'\u001b[39m\u001b[38;5;124msorry, wrong answer\u001b[39m\u001b[38;5;124m'\u001b[39m)\n",
            "\u001b[0;31mNameError\u001b[0m: name 'score' is not defined"
          ],
          "output_type": "error"
        }
      ],
      "execution_count": 3
    },
    {
      "cell_type": "code",
      "source": "answer5 = await input('Which nation knows by their \"justice\"?')\n",
      "metadata": {
        "trusted": true
      },
      "outputs": [
        {
          "output_type": "stream",
          "name": "stdin",
          "text": "Which nation knows by their \"justice\"? fontaine\n"
        }
      ],
      "execution_count": 13
    },
    {
      "cell_type": "code",
      "source": "if answer5 == 'fontaine' :\n    print('correct!!')\n    score = score + 1\nelse:\n    print('sorry, wrong answer')\nprint(\"your current score is: \" +str(score))",
      "metadata": {
        "trusted": true
      },
      "outputs": [
        {
          "name": "stdout",
          "text": "correct!!\nyour current score is: 4\n",
          "output_type": "stream"
        }
      ],
      "execution_count": 14
    },
    {
      "cell_type": "code",
      "source": "print(\"your final score is: \" +str(score))\n ",
      "metadata": {
        "trusted": true
      },
      "outputs": [
        {
          "name": "stdout",
          "text": "your final score is: 4\n",
          "output_type": "stream"
        }
      ],
      "execution_count": 15
    },
    {
      "cell_type": "code",
      "source": "",
      "metadata": {},
      "outputs": [],
      "execution_count": null
    }
  ]
}